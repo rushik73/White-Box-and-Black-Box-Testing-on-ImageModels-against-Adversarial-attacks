{
 "cells": [
  {
   "cell_type": "code",
   "execution_count": 1,
   "id": "3bcabcca-c743-4914-97d1-b0d41a1634b7",
   "metadata": {},
   "outputs": [
    {
     "name": "stdout",
     "output_type": "stream",
     "text": [
      "Using device: cuda\n"
     ]
    }
   ],
   "source": [
    "import torch\n",
    "import torch.nn as nn\n",
    "import torch.optim as optim\n",
    "import torchvision\n",
    "import torchvision.transforms as transforms\n",
    "import torch.nn.functional as F\n",
    "from tqdm import tqdm\n",
    "\n",
    "device = torch.device('cuda' if torch.cuda.is_available() else 'cpu')\n",
    "print(\"Using device:\", device)"
   ]
  },
  {
   "cell_type": "code",
   "execution_count": 2,
   "id": "64cbd6be-f820-4f1b-9984-2a8bad6f74f1",
   "metadata": {},
   "outputs": [
    {
     "name": "stdout",
     "output_type": "stream",
     "text": [
      "Files already downloaded and verified\n",
      "Files already downloaded and verified\n"
     ]
    }
   ],
   "source": [
    "# --- Data Transforms ---\n",
    "mean = (0.4914, 0.4822, 0.4465)\n",
    "std  = (0.2023, 0.1994, 0.2010)\n",
    "\n",
    "transform_train = transforms.Compose([\n",
    "    transforms.RandomCrop(32, padding=4),\n",
    "    transforms.RandomHorizontalFlip(),\n",
    "    transforms.ToTensor(),\n",
    "    transforms.Normalize(mean, std),\n",
    "])\n",
    "\n",
    "transform_test = transforms.Compose([\n",
    "    transforms.ToTensor(),\n",
    "    transforms.Normalize(mean, std),\n",
    "])\n",
    "\n",
    "trainset = torchvision.datasets.CIFAR10(root='./data', train=True, download=True, transform=transform_train)\n",
    "trainloader = torch.utils.data.DataLoader(trainset, batch_size=128, shuffle=True, num_workers=2)\n",
    "\n",
    "testset = torchvision.datasets.CIFAR10(root='./data', train=False, download=True, transform=transform_test)\n",
    "testloader = torch.utils.data.DataLoader(testset, batch_size=100, shuffle=False, num_workers=2)\n"
   ]
  },
  {
   "cell_type": "code",
   "execution_count": 3,
   "id": "aa21e8d2-2911-4abd-93e0-8d6349e689bd",
   "metadata": {},
   "outputs": [],
   "source": [
    "# --- Defense Modules ---\n",
    "class ThresholdReLU(nn.Module):\n",
    "    def __init__(self, threshold=0.001):\n",
    "        super().__init__()\n",
    "        self.threshold = threshold\n",
    "    def forward(self, x):\n",
    "        return torch.where(x > self.threshold, x, torch.zeros_like(x))\n",
    "\n",
    "def quantize_input(x, levels=16, min_val=-2.5, max_val=2.5):\n",
    "    x = torch.clamp(x, min_val, max_val)\n",
    "    x_norm = (x - min_val) / (max_val - min_val)\n",
    "    x_quant = torch.round(x_norm * (levels - 1)) / (levels - 1)\n",
    "    return x_quant * (max_val - min_val) + min_val"
   ]
  },
  {
   "cell_type": "code",
   "execution_count": 4,
   "id": "2b9c3b17-53a6-4d4c-bba7-100fe0f06e26",
   "metadata": {},
   "outputs": [],
   "source": [
    "# --- Sparsity Losses ---\n",
    "def sparsity_loss_modified(activations, beta=20.0):\n",
    "    total = sum(act.numel() for act in activations)\n",
    "    loss = 0.0\n",
    "    for act in activations:\n",
    "        # Encourage nonzero via tanh surrogate\n",
    "        loss += torch.sum(1.0 - torch.tanh(beta * torch.abs(act)))\n",
    "    return loss / total\n"
   ]
  },
  {
   "cell_type": "code",
   "execution_count": 5,
   "id": "55fd4dc6-d73c-4366-8f82-bbf718fd4878",
   "metadata": {},
   "outputs": [],
   "source": [
    "# --- Model Definition ---\n",
    "class Bottleneck(nn.Module):\n",
    "    expansion = 4\n",
    "    def __init__(self, in_planes, planes, stride=1):\n",
    "        super().__init__()\n",
    "        self.conv1 = nn.Conv2d(in_planes, planes, kernel_size=1, bias=False)\n",
    "        self.bn1 = nn.BatchNorm2d(planes)\n",
    "        self.relu1 = ThresholdReLU()\n",
    "        self.conv2 = nn.Conv2d(planes, planes, kernel_size=3, stride=stride, padding=1, bias=False)\n",
    "        self.bn2 = nn.BatchNorm2d(planes)\n",
    "        self.relu2 = ThresholdReLU()\n",
    "        self.conv3 = nn.Conv2d(planes, planes * Bottleneck.expansion, kernel_size=1, bias=False)\n",
    "        self.bn3 = nn.BatchNorm2d(planes * Bottleneck.expansion)\n",
    "        self.shortcut = nn.Sequential()\n",
    "        if stride != 1 or in_planes != planes * Bottleneck.expansion:\n",
    "            self.shortcut = nn.Sequential(\n",
    "                nn.Conv2d(in_planes, planes * Bottleneck.expansion, kernel_size=1, stride=stride, bias=False),\n",
    "                nn.BatchNorm2d(planes * Bottleneck.expansion)\n",
    "            )\n",
    "    def forward(self, x):\n",
    "        out1 = self.relu1(self.bn1(self.conv1(x)))  # record this activation\n",
    "        out2 = self.relu2(self.bn2(self.conv2(out1)))\n",
    "        out3 = self.bn3(self.conv3(out2))\n",
    "        out3 += self.shortcut(x)\n",
    "        out = self.relu2(out3)\n",
    "        return out, out1"
   ]
  },
  {
   "cell_type": "code",
   "execution_count": 6,
   "id": "ac60ccb5-13c8-44a4-9c3e-261f98533b84",
   "metadata": {},
   "outputs": [],
   "source": [
    "class ResNet164(nn.Module):\n",
    "    def __init__(self, block=Bottleneck, num_blocks=[18,18,18], num_classes=10):\n",
    "        super().__init__()\n",
    "        self.in_planes = 16\n",
    "        self.conv1 = nn.Conv2d(3, 16, kernel_size=3, stride=1, padding=1, bias=False)\n",
    "        self.bn1 = nn.BatchNorm2d(16)\n",
    "        self.relu1 = ThresholdReLU()\n",
    "        self.layer1 = self._make_layer(block, 16, num_blocks[0], stride=1)\n",
    "        self.layer2 = self._make_layer(block, 32, num_blocks[1], stride=2)\n",
    "        self.layer3 = self._make_layer(block, 64, num_blocks[2], stride=2)\n",
    "        self.linear = nn.Linear(64 * block.expansion, num_classes)\n",
    "    def _make_layer(self, block, planes, num_blocks, stride):\n",
    "        strides = [stride] + [1]*(num_blocks-1)\n",
    "        layers = []\n",
    "        for s in strides:\n",
    "            layers.append(block(self.in_planes, planes, s))\n",
    "            self.in_planes = planes * block.expansion\n",
    "        return nn.Sequential(*layers)\n",
    "    def forward(self, x):\n",
    "        out = self.relu1(self.bn1(self.conv1(x)))\n",
    "        activations = []\n",
    "        for blk in self.layer1:\n",
    "            out, act = blk(out); activations.append(act)\n",
    "        for blk in self.layer2:\n",
    "            out, act = blk(out); activations.append(act)\n",
    "        for blk in self.layer3:\n",
    "            out, act = blk(out); activations.append(act)\n",
    "        out = F.avg_pool2d(out, out.size(3))\n",
    "        out = out.view(out.size(0), -1)\n",
    "        out = self.linear(out)\n",
    "        return out, activations\n"
   ]
  },
  {
   "cell_type": "code",
   "execution_count": 7,
   "id": "ea9e5a9d-c0c7-497e-b93c-04e116be8008",
   "metadata": {},
   "outputs": [],
   "source": [
    "# --- Training/Eval ---\n",
    "def train_one_epoch(model, loader, criterion, optimizer):\n",
    "    model.train()\n",
    "    total_loss, correct, total = 0,0,0\n",
    "    for imgs, labels in loader:\n",
    "        imgs, labels = imgs.to(device), labels.to(device)\n",
    "        imgs = quantize_input(imgs)\n",
    "        out, acts = model(imgs)\n",
    "        loss_main = criterion(out, labels)\n",
    "        loss_sparse = sparsity_loss_modified(acts)\n",
    "        loss = loss_main + loss_sparse\n",
    "        optimizer.zero_grad(); loss.backward(); optimizer.step()\n",
    "        total_loss += loss.item()*imgs.size(0)\n",
    "        _, preds = out.max(1)\n",
    "        correct += preds.eq(labels).sum().item(); total += labels.size(0)\n",
    "    return total_loss/total, 100*correct/total\n",
    "\n",
    "def evaluate(model, loader, criterion):\n",
    "    model.eval()\n",
    "    total_loss, correct, total = 0,0,0\n",
    "    with torch.no_grad():\n",
    "        for imgs, labels in loader:\n",
    "            imgs, labels = imgs.to(device), labels.to(device)\n",
    "            imgs = quantize_input(imgs)\n",
    "            out, acts = model(imgs)\n",
    "            loss = criterion(out, labels)\n",
    "            loss += sparsity_loss_modified(acts)\n",
    "            total_loss += loss.item()*imgs.size(0)\n",
    "            _, preds = out.max(1)\n",
    "            correct += preds.eq(labels).sum().item(); total += labels.size(0)\n",
    "    return total_loss/total, 100*correct/total"
   ]
  },
  {
   "cell_type": "code",
   "execution_count": 8,
   "id": "f81a173e-24d2-4440-a13a-ccd5a6a1963c",
   "metadata": {},
   "outputs": [],
   "source": [
    "# --- White-box Attack ---\n",
    "def generate_sparsity_adversary(model, x_clean, y_clean, criterion, epsilon=0.3, alpha=0.01, num_iter=75, c=5.0):\n",
    "    model.eval(); x_adv = x_clean.clone().detach().to(device); x_adv.requires_grad=True\n",
    "    for i in range(num_iter):\n",
    "        out, acts = model(x_adv)\n",
    "        l_ce = criterion(out, y_clean)\n",
    "        l_sp = sparsity_loss_modified(acts)\n",
    "        loss = l_sp + c * l_ce\n",
    "        model.zero_grad(); loss.backward()\n",
    "        x_adv = x_adv - alpha * x_adv.grad.sign()\n",
    "        x_adv = torch.max(torch.min(x_adv, x_clean+epsilon), x_clean-epsilon)\n",
    "        x_adv = torch.clamp(x_adv, -2.5, 2.5)\n",
    "        x_adv = x_adv.detach(); x_adv.requires_grad=True\n",
    "        if (i+1)%15==0:\n",
    "            print(f\"Iter {i+1}/{num_iter}, CE: {l_ce.item():.4f}, SP: {l_sp.item():.4f}\")\n",
    "    return x_adv.detach()"
   ]
  },
  {
   "cell_type": "code",
   "execution_count": 9,
   "id": "bfea1342-5f70-4358-8ce6-ba2cf1c27128",
   "metadata": {},
   "outputs": [
    {
     "name": "stdout",
     "output_type": "stream",
     "text": [
      "Iter 15/75, CE: 2.2191, SP: 0.7486\n",
      "Iter 30/75, CE: 2.2108, SP: 0.7299\n",
      "Iter 45/75, CE: 2.2093, SP: 0.7276\n",
      "Iter 60/75, CE: 2.2089, SP: 0.7273\n",
      "Iter 75/75, CE: 2.2087, SP: 0.7272\n",
      "Clean preds: tensor([6, 6, 6, 6, 6, 6, 6, 6, 6, 6], device='cuda:0')\n",
      "Adv preds:  tensor([6, 6, 6, 6, 6, 6, 6, 6, 6, 6], device='cuda:0')\n",
      "Sparsity clean: 0.4722, adv: 0.4768\n"
     ]
    }
   ],
   "source": [
    "# --- Setup and Example ---\n",
    "model = ResNet164().to(device)\n",
    "criterion = nn.CrossEntropyLoss()\n",
    "optimizer = optim.SGD(model.parameters(), lr=0.1, momentum=0.9, weight_decay=1e-4)\n",
    "# ... train or load ResNet164 weights here ...\n",
    "model.eval()\n",
    "for imgs, labels in testloader:\n",
    "    imgs, labels = imgs.to(device), labels.to(device)\n",
    "    imgs_q = quantize_input(imgs)\n",
    "    out_c, acts_c = model(imgs_q); _, p_c = out_c.max(1)\n",
    "    imgs_adv = generate_sparsity_adversary(model, imgs_q, p_c, criterion)\n",
    "    out_a, acts_a = model(imgs_adv); _, p_a = out_a.max(1)\n",
    "    print(\"Clean preds:\", p_c[:10])\n",
    "    print(\"Adv preds: \", p_a[:10])\n",
    "    spar_c = sum((act!=0).float().sum() for act in acts_c)/sum(act.numel() for act in acts_c)\n",
    "    spar_a = sum((act!=0).float().sum() for act in acts_a)/sum(act.numel() for act in acts_a)\n",
    "    print(f\"Sparsity clean: {spar_c:.4f}, adv: {spar_a:.4f}\")\n",
    "    break"
   ]
  },
  {
   "cell_type": "code",
   "execution_count": null,
   "id": "8a698e9e-6544-4799-8e1f-fabee3c4bc64",
   "metadata": {},
   "outputs": [],
   "source": []
  },
  {
   "cell_type": "code",
   "execution_count": null,
   "id": "e8ab7982-dd05-468a-a286-7dbe54fa9269",
   "metadata": {},
   "outputs": [],
   "source": []
  }
 ],
 "metadata": {
  "kernelspec": {
   "display_name": "Python 3 (ipykernel)",
   "language": "python",
   "name": "python3"
  },
  "language_info": {
   "codemirror_mode": {
    "name": "ipython",
    "version": 3
   },
   "file_extension": ".py",
   "mimetype": "text/x-python",
   "name": "python",
   "nbconvert_exporter": "python",
   "pygments_lexer": "ipython3",
   "version": "3.8.10"
  }
 },
 "nbformat": 4,
 "nbformat_minor": 5
}

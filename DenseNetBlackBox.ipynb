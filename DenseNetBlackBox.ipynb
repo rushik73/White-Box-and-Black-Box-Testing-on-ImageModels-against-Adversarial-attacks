{
 "cells": [
  {
   "cell_type": "code",
   "execution_count": 1,
   "id": "68141b35-5500-4d8d-8c99-867a5ea14764",
   "metadata": {},
   "outputs": [
    {
     "name": "stdout",
     "output_type": "stream",
     "text": [
      "Using device: cuda\n"
     ]
    }
   ],
   "source": [
    "import copy\n",
    "import torch\n",
    "import torch.nn as nn\n",
    "import torch.nn.functional as F\n",
    "import torch.optim as optim\n",
    "import torchvision\n",
    "import torchvision.transforms as transforms\n",
    "\n",
    "device = torch.device('cuda' if torch.cuda.is_available() else 'cpu')\n",
    "print(\"Using device:\", device)"
   ]
  },
  {
   "cell_type": "code",
   "execution_count": 2,
   "id": "831d926c-4795-4d4c-976d-45cfc7e185d7",
   "metadata": {},
   "outputs": [],
   "source": [
    "class ThresholdReLU(nn.Module):\n",
    "    def __init__(self, threshold=0.001):\n",
    "        super().__init__()\n",
    "        self.threshold = threshold\n",
    "    def forward(self, x):\n",
    "        return torch.where(x > self.threshold, x, torch.zeros_like(x))\n",
    "\n",
    "def quantize_input(x, levels=16, lo=0.0, hi=1.0):\n",
    "    x = x.clamp(lo, hi)\n",
    "    x_norm = (x - lo) / (hi - lo)\n",
    "    x_q = torch.round(x_norm * (levels - 1)) / (levels - 1)\n",
    "    return x_q * (hi - lo) + lo\n",
    "\n",
    "def sparsity_loss_modified(acts, beta=20.0):\n",
    "    total = sum(a.numel() for a in acts)\n",
    "    loss = 0.0\n",
    "    for a in acts:\n",
    "        loss += torch.sum(1.0 - torch.tanh(beta * a.abs()))\n",
    "    return loss / total"
   ]
  },
  {
   "cell_type": "code",
   "execution_count": 3,
   "id": "6ec233fb-9b6b-4de0-8e55-e30b429d4e74",
   "metadata": {},
   "outputs": [],
   "source": [
    "class DenseNet_Sparse(nn.Module):\n",
    "    def __init__(self, num_classes=10):\n",
    "        super().__init__()\n",
    "        base = torchvision.models.densenet121(pretrained=False)\n",
    "        self.features = base.features\n",
    "        self.pool     = nn.AdaptiveAvgPool2d((1,1))\n",
    "        # Adapt classifier for CIFAR‑10\n",
    "        self.classifier = nn.Sequential(\n",
    "            nn.Linear(base.classifier.in_features, 512),\n",
    "            ThresholdReLU(),\n",
    "            nn.Linear(512, num_classes)\n",
    "        )\n",
    "    def forward(self, x):\n",
    "        acts = []\n",
    "        for layer in self.features:\n",
    "            x = layer(x)\n",
    "            if isinstance(layer, (nn.BatchNorm2d, nn.ReLU)):\n",
    "                acts.append(x.clone())\n",
    "        x = self.pool(x)\n",
    "        x = x.view(x.size(0), -1)\n",
    "        x = self.classifier(x)\n",
    "        return x, acts"
   ]
  },
  {
   "cell_type": "code",
   "execution_count": 4,
   "id": "319b65ca-4dec-4b0f-aaad-582de1787c19",
   "metadata": {},
   "outputs": [],
   "source": [
    "# 4) White‑Box Sparsity Adversary \n",
    "def generate_sparsity_adversary(model, x_clean, y_clean, criterion,\n",
    "                                epsilon=0.5, alpha=0.05, num_iter=120,\n",
    "                                c=0.0, beta=50.0):\n",
    "    model.eval()\n",
    "    x_adv = x_clean.detach().clone().to(device)\n",
    "    x_adv.requires_grad = True\n",
    "\n",
    "    for i in range(num_iter):\n",
    "        logits, acts = model(x_adv)\n",
    "        l_sp = sparsity_loss_modified(acts, beta=beta)\n",
    "        loss = l_sp  # c=0 → ignore CE\n",
    "        model.zero_grad()\n",
    "        loss.backward()\n",
    "        x_adv = x_adv - alpha * x_adv.grad.sign()\n",
    "        x_adv = torch.max(torch.min(x_adv, x_clean+epsilon),\n",
    "                          x_clean-epsilon).clamp(0.0,1.0)\n",
    "        x_adv = x_adv.detach()\n",
    "        x_adv.requires_grad = True\n",
    "\n",
    "        if (i+1) % 30 == 0:\n",
    "            print(f\"WB iter {i+1}/{num_iter}, SP loss: {l_sp.item():.4f}\")\n",
    "\n",
    "    return x_adv.detach()\n"
   ]
  },
  {
   "cell_type": "code",
   "execution_count": 5,
   "id": "587a590d-5313-47e4-8c58-0e8be5d1e247",
   "metadata": {},
   "outputs": [],
   "source": [
    "# ─── 5) SPSA Black‑Box Attack ──\n",
    "class SPSAAttack:\n",
    "    def __init__(self, model, bounds=(0,1), sigma=2e-3, lr=1e-2,\n",
    "                 max_iter=500, targeted=True, samples=4):\n",
    "        self.model    = model\n",
    "        self.lo, self.hi = bounds\n",
    "        self.sigma    = sigma\n",
    "        self.lr       = lr\n",
    "        self.max_iter = max_iter\n",
    "        self.targeted = targeted\n",
    "        self.samples  = samples\n",
    "\n",
    "    def attack(self, x_orig, tgt_label):\n",
    "        delta = torch.zeros_like(x_orig, device=x_orig.device)\n",
    "        tgt   = torch.tensor([tgt_label], device=x_orig.device)\n",
    "\n",
    "        for _ in range(self.max_iter):\n",
    "            grad_est = torch.zeros_like(delta)\n",
    "            for _ in range(self.samples):\n",
    "                u = torch.randint(0,2,x_orig.shape,device=x_orig.device).float()*2 - 1\n",
    "                x_p = torch.clamp(x_orig+delta+self.sigma*u, self.lo, self.hi)\n",
    "                x_n = torch.clamp(x_orig+delta-self.sigma*u, self.lo, self.hi)\n",
    "                lp,_ = self.model(x_p); ln,_ = self.model(x_n)\n",
    "                l_p = F.cross_entropy(lp, tgt)\n",
    "                l_n = F.cross_entropy(ln, tgt)\n",
    "                diff = (l_p - l_n) if self.targeted else (l_n - l_p)\n",
    "                grad_est += diff * u / (2*self.sigma)\n",
    "            grad_est /= self.samples\n",
    "            delta = delta - self.lr * grad_est\n",
    "            delta = torch.clamp(delta, self.lo - x_orig, self.hi - x_orig)\n",
    "\n",
    "        return torch.clamp(x_orig + delta, self.lo, self.hi).detach()"
   ]
  },
  {
   "cell_type": "code",
   "execution_count": 6,
   "id": "ea61c134-3640-4a9e-9483-06d8908d467d",
   "metadata": {},
   "outputs": [
    {
     "name": "stdout",
     "output_type": "stream",
     "text": [
      "Files already downloaded and verified\n"
     ]
    }
   ],
   "source": [
    "mean = (0.4914, 0.4822, 0.4465)\n",
    "std  = (0.2023, 0.1994, 0.2010)\n",
    "transform_test = transforms.Compose([\n",
    "    transforms.Resize(224),           # match DenseNet input expectations\n",
    "    transforms.ToTensor(),\n",
    "    transforms.Normalize(mean, std),\n",
    "])\n",
    "testset  = torchvision.datasets.CIFAR10('./data', train=False, download=True, transform=transform_test)\n",
    "testloader = torch.utils.data.DataLoader(testset, batch_size=32, shuffle=False, num_workers=2)"
   ]
  },
  {
   "cell_type": "code",
   "execution_count": 7,
   "id": "7cf7d3a7-54a9-45e0-b21c-57cfd5bf4ee8",
   "metadata": {},
   "outputs": [
    {
     "name": "stderr",
     "output_type": "stream",
     "text": [
      "/home/rushik/.local/lib/python3.8/site-packages/torchvision/models/_utils.py:208: UserWarning: The parameter 'pretrained' is deprecated since 0.13 and may be removed in the future, please use 'weights' instead.\n",
      "  warnings.warn(\n",
      "/home/rushik/.local/lib/python3.8/site-packages/torchvision/models/_utils.py:223: UserWarning: Arguments other than a weight enum or `None` for 'weights' are deprecated since 0.13 and may be removed in the future. The current behavior is equivalent to passing `weights=None`.\n",
      "  warnings.warn(msg)\n"
     ]
    }
   ],
   "source": [
    "model     = DenseNet_Sparse().to(device)\n",
    "model.eval()\n",
    "surrogate = model\n",
    "target    = copy.deepcopy(model)\n",
    "surrogate.eval(); target.eval()\n",
    "\n",
    "criterion = nn.CrossEntropyLoss()\n",
    "spsa = SPSAAttack(model=target)"
   ]
  },
  {
   "cell_type": "code",
   "execution_count": 8,
   "id": "bc709675-f539-4832-9a44-5509495a36f4",
   "metadata": {},
   "outputs": [
    {
     "name": "stdout",
     "output_type": "stream",
     "text": [
      "WB iter 30/120, SP loss: 0.2428\n",
      "WB iter 60/120, SP loss: 0.2402\n",
      "WB iter 90/120, SP loss: 0.2394\n",
      "WB iter 120/120, SP loss: 0.2390\n",
      "Sparsity clean: 0.5109, adversarial: 0.7683\n"
     ]
    }
   ],
   "source": [
    "for imgs, _ in testloader:\n",
    "    imgs = imgs.to(device)\n",
    "    # (1) Clean preds & activations\n",
    "    with torch.no_grad():\n",
    "        logits_c, acts_c = target(quantize_input(imgs))\n",
    "        preds_c = logits_c.argmax(1)\n",
    "\n",
    "    # (2) White‑box stage on surrogate\n",
    "    imgs_q  = quantize_input(imgs)\n",
    "    imgs_s1 = generate_sparsity_adversary(\n",
    "                   surrogate, imgs_q, preds_c, criterion,\n",
    "                   epsilon=0.5, alpha=0.05, num_iter=120, c=0.0, beta=50.0\n",
    "               )\n",
    "\n",
    "    # (3) SPSA repair any flips\n",
    "    imgs_adv = imgs_s1.clone()\n",
    "    for i in range(imgs.size(0)):\n",
    "        with torch.no_grad():\n",
    "            pi = target(imgs_s1[i:i+1])[0].argmax(1)\n",
    "        if pi != preds_c[i]:\n",
    "            imgs_adv[i:i+1] = spsa.attack(imgs_s1[i:i+1], preds_c[i].item())\n",
    "\n",
    "    # (4) Measure sparsity\n",
    "    with torch.no_grad():\n",
    "        _, acts_a = target(quantize_input(imgs_adv))\n",
    "    sp_c = sum((a!=0).float().sum() for a in acts_c)/sum(a.numel() for a in acts_c)\n",
    "    sp_a = sum((a!=0).float().sum() for a in acts_a)/sum(a.numel() for a in acts_a)\n",
    "\n",
    "    print(f\"Sparsity clean: {sp_c:.4f}, adversarial: {sp_a:.4f}\")\n",
    "    break"
   ]
  },
  {
   "cell_type": "code",
   "execution_count": null,
   "id": "e89c55b0-d150-4eee-bb68-260ae3e3e40b",
   "metadata": {},
   "outputs": [],
   "source": []
  }
 ],
 "metadata": {
  "kernelspec": {
   "display_name": "Python 3 (ipykernel)",
   "language": "python",
   "name": "python3"
  },
  "language_info": {
   "codemirror_mode": {
    "name": "ipython",
    "version": 3
   },
   "file_extension": ".py",
   "mimetype": "text/x-python",
   "name": "python",
   "nbconvert_exporter": "python",
   "pygments_lexer": "ipython3",
   "version": "3.8.10"
  }
 },
 "nbformat": 4,
 "nbformat_minor": 5
}

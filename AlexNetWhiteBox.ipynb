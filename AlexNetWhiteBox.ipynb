{
 "cells": [
  {
   "cell_type": "code",
   "execution_count": 11,
   "id": "c6c5a179-3216-4424-aba7-1730d2684e3d",
   "metadata": {},
   "outputs": [
    {
     "name": "stdout",
     "output_type": "stream",
     "text": [
      "Using device: cuda\n"
     ]
    }
   ],
   "source": [
    "import torch\n",
    "import torch.nn as nn\n",
    "import torch.optim as optim\n",
    "import torchvision\n",
    "import torchvision.transforms as transforms\n",
    "import torch.nn.functional as F\n",
    "from torchvision import models\n",
    "from tqdm import tqdm\n",
    "\n",
    "device = torch.device('cuda' if torch.cuda.is_available() else 'cpu')\n",
    "print(\"Using device:\", device)"
   ]
  },
  {
   "cell_type": "code",
   "execution_count": 12,
   "id": "89823f65-9194-4d65-8dcc-45e97a52743b",
   "metadata": {},
   "outputs": [
    {
     "name": "stdout",
     "output_type": "stream",
     "text": [
      "Files already downloaded and verified\n",
      "Files already downloaded and verified\n"
     ]
    }
   ],
   "source": [
    "# --- Data Transforms ---\n",
    "mean = (0.4914, 0.4822, 0.4465)\n",
    "std  = (0.2023, 0.1994, 0.2010)\n",
    "transform_train = transforms.Compose([\n",
    "    transforms.Resize(224),                # <<< add this\n",
    "    transforms.RandomCrop(224, padding=4),\n",
    "    transforms.RandomHorizontalFlip(),\n",
    "    transforms.ToTensor(),\n",
    "    transforms.Normalize(mean, std),\n",
    "])\n",
    "transform_test = transforms.Compose([\n",
    "    transforms.Resize(224),       \n",
    "    transforms.ToTensor(),\n",
    "    transforms.Normalize(mean, std),\n",
    "])\n",
    "trainset = torchvision.datasets.CIFAR10(root='./data', train=True, download=True, transform=transform_train)\n",
    "trainloader = torch.utils.data.DataLoader(trainset, batch_size=128, shuffle=True, num_workers=2)\n",
    "testset = torchvision.datasets.CIFAR10(root='./data', train=False, download=True, transform=transform_test)\n",
    "testloader = torch.utils.data.DataLoader(testset, batch_size=100, shuffle=False, num_workers=2)\n"
   ]
  },
  {
   "cell_type": "code",
   "execution_count": 13,
   "id": "6acb54f2-d614-412a-81c2-d0ac63bfed4b",
   "metadata": {},
   "outputs": [],
   "source": [
    "# --- Defense Modules ---\n",
    "class ThresholdReLU(nn.Module):\n",
    "    def __init__(self, threshold=0.001):\n",
    "        super().__init__()\n",
    "        self.threshold = threshold\n",
    "    def forward(self, x):\n",
    "        return torch.where(x > self.threshold, x, torch.zeros_like(x))\n",
    "\n",
    "def quantize_input(x, levels=16, min_val=-2.5, max_val=2.5):\n",
    "    x = torch.clamp(x, min_val, max_val)\n",
    "    x_norm = (x - min_val) / (max_val - min_val)\n",
    "    x_quant = torch.round(x_norm * (levels - 1)) / (levels - 1)\n",
    "    return x_quant * (max_val - min_val) + min_val"
   ]
  },
  {
   "cell_type": "code",
   "execution_count": 14,
   "id": "e650696c-5269-4f52-a40b-d6436aa408dd",
   "metadata": {},
   "outputs": [],
   "source": [
    "# --- Sparsity Loss ---\n",
    "def sparsity_loss_modified(activations, beta=20.0):\n",
    "    total = sum(act.numel() for act in activations)\n",
    "    loss = 0.0\n",
    "    for act in activations:\n",
    "        loss += torch.sum(1.0 - torch.tanh(beta * torch.abs(act)))\n",
    "    return loss / total"
   ]
  },
  {
   "cell_type": "code",
   "execution_count": 15,
   "id": "09b50eeb-d57a-448a-a6a0-7d1d4f77caf9",
   "metadata": {},
   "outputs": [],
   "source": [
    "# --- AlexNet Wrapper ---\n",
    "class AlexNetSparse(nn.Module):\n",
    "    def __init__(self, num_classes=10):\n",
    "        super().__init__()\n",
    "        base = models.alexnet(weights=models.AlexNet_Weights.DEFAULT)\n",
    "        # Adapt classifier for CIFAR-10\n",
    "        base.classifier[6] = nn.Linear(4096, num_classes)\n",
    "        # Replace ReLU activations in features\n",
    "        features = []\n",
    "        for m in base.features:\n",
    "            if isinstance(m, nn.ReLU):\n",
    "                features.append(ThresholdReLU())\n",
    "            else:\n",
    "                features.append(m)\n",
    "        self.features = nn.Sequential(*features)\n",
    "        self.avgpool = base.avgpool\n",
    "        self.classifier = base.classifier\n",
    "    def forward(self, x):\n",
    "        activations = []\n",
    "        for layer in self.features:\n",
    "            x = layer(x)\n",
    "            if isinstance(layer, ThresholdReLU):\n",
    "                activations.append(x)\n",
    "        x = self.avgpool(x)\n",
    "        x = torch.flatten(x, 1)\n",
    "        x = self.classifier(x)\n",
    "        return x, activations"
   ]
  },
  {
   "cell_type": "code",
   "execution_count": 16,
   "id": "4025ce75-3d1d-4be9-8a3b-9c7dd057d31c",
   "metadata": {},
   "outputs": [],
   "source": [
    "# --- Training/Eval Functions ---\n",
    "def train_one_epoch(model, loader, criterion, optimizer):\n",
    "    model.train()\n",
    "    total_loss, correct, total = 0, 0, 0\n",
    "    for imgs, labels in loader:\n",
    "        imgs, labels = imgs.to(device), labels.to(device)\n",
    "        imgs = quantize_input(imgs)\n",
    "        outputs, acts = model(imgs)\n",
    "        loss_ce = criterion(outputs, labels)\n",
    "        loss_sp = sparsity_loss_modified(acts)\n",
    "        loss = loss_ce + loss_sp\n",
    "        optimizer.zero_grad(); loss.backward(); optimizer.step()\n",
    "        total_loss += loss.item() * imgs.size(0)\n",
    "        _, preds = outputs.max(1)\n",
    "        correct += preds.eq(labels).sum().item(); total += labels.size(0)\n",
    "    return total_loss/total, 100*correct/total\n"
   ]
  },
  {
   "cell_type": "code",
   "execution_count": 17,
   "id": "3b7def6f-40e7-4cd3-bf9a-788cb1a7274b",
   "metadata": {},
   "outputs": [],
   "source": [
    "def evaluate(model, loader, criterion):\n",
    "    model.eval()\n",
    "    total_loss, correct, total = 0, 0, 0\n",
    "    with torch.no_grad():\n",
    "        for imgs, labels in loader:\n",
    "            imgs, labels = imgs.to(device), labels.to(device)\n",
    "            imgs = quantize_input(imgs)\n",
    "            outputs, acts = model(imgs)\n",
    "            loss_ce = criterion(outputs, labels)\n",
    "            loss_sp = sparsity_loss_modified(acts)\n",
    "            loss = loss_ce + loss_sp\n",
    "            total_loss += loss.item() * imgs.size(0)\n",
    "            _, preds = outputs.max(1)\n",
    "            correct += preds.eq(labels).sum().item(); total += labels.size(0)\n",
    "    return total_loss/total, 100*correct/total"
   ]
  },
  {
   "cell_type": "code",
   "execution_count": 18,
   "id": "2ae3293b-d61f-4905-bff7-ee6199ce17bd",
   "metadata": {},
   "outputs": [],
   "source": [
    "# --- White-box Sparsity Attack ---\n",
    "def generate_sparsity_adversary(model, x_clean, y_clean, criterion,\n",
    "                                epsilon=0.3, alpha=0.01, num_iter=75, c=5.0, beta=20.0):\n",
    "    model.eval()\n",
    "    x_adv = x_clean.clone().detach().to(device); x_adv.requires_grad=True\n",
    "    for i in range(num_iter):\n",
    "        outputs, acts = model(x_adv)\n",
    "        loss_ce = criterion(outputs, y_clean)\n",
    "        loss_sp = sparsity_loss_modified(acts, beta=beta)\n",
    "        loss = loss_sp + c * loss_ce\n",
    "        model.zero_grad(); loss.backward()\n",
    "        x_adv = x_adv - alpha * x_adv.grad.sign()\n",
    "        x_adv = torch.max(torch.min(x_adv, x_clean+epsilon), x_clean-epsilon)\n",
    "        x_adv = torch.clamp(x_adv, -2.5, 2.5)\n",
    "        x_adv = x_adv.detach(); x_adv.requires_grad=True\n",
    "        if (i+1)%15==0:\n",
    "            print(f\"Iter {i+1}/{num_iter}, CE: {loss_ce.item():.4f}, SP: {loss_sp.item():.4f}\")\n",
    "    return x_adv.detach()"
   ]
  },
  {
   "cell_type": "code",
   "execution_count": 19,
   "id": "57df9ebc-4ccf-4804-b69b-33b2c52d01dd",
   "metadata": {},
   "outputs": [],
   "source": [
    "# --- Instantiate & Test ---\n",
    "model = AlexNetSparse().to(device)\n",
    "criterion = nn.CrossEntropyLoss()\n",
    "optimizer = optim.SGD(model.parameters(), lr=0.01, momentum=0.9, weight_decay=1e-4)\n"
   ]
  },
  {
   "cell_type": "code",
   "execution_count": 20,
   "id": "2711c2fd-815c-42ae-9cc8-3a07cd6ef673",
   "metadata": {},
   "outputs": [
    {
     "name": "stdout",
     "output_type": "stream",
     "text": [
      "Iter 15/75, CE: 0.0076, SP: 0.7270\n",
      "Iter 30/75, CE: 0.0007, SP: 0.6972\n",
      "Iter 45/75, CE: 0.0004, SP: 0.6818\n",
      "Iter 60/75, CE: 0.0003, SP: 0.6720\n",
      "Iter 75/75, CE: 0.0002, SP: 0.6649\n",
      "Clean preds: tensor([7, 3, 0, 0, 4, 7, 2, 0, 7, 8], device='cuda:0')\n",
      "Adv preds:  tensor([7, 3, 0, 0, 4, 7, 2, 0, 7, 8], device='cuda:0')\n",
      "Sparsity clean: 0.2632, adv: 0.3402\n"
     ]
    }
   ],
   "source": [
    "model.eval()\n",
    "for imgs, labels in testloader:\n",
    "    imgs, labels = imgs.to(device), labels.to(device)\n",
    "    imgs_q = quantize_input(imgs)\n",
    "    out_c, acts_c = model(imgs_q); _, p_c = out_c.max(1)\n",
    "    imgs_adv = generate_sparsity_adversary(model, imgs_q, p_c, criterion)\n",
    "    out_a, acts_a = model(imgs_adv); _, p_a = out_a.max(1)\n",
    "    print(\"Clean preds:\", p_c[:10])\n",
    "    print(\"Adv preds: \", p_a[:10])\n",
    "    spar_c = sum((act!=0).float().sum() for act in acts_c)/sum(act.numel() for act in acts_c)\n",
    "    spar_a = sum((act!=0).float().sum() for act in acts_a)/sum(act.numel() for act in acts_a)\n",
    "    print(f\"Sparsity clean: {spar_c:.4f}, adv: {spar_a:.4f}\")\n",
    "    break"
   ]
  },
  {
   "cell_type": "code",
   "execution_count": null,
   "id": "6e6e4c5a-3182-46b9-b6f3-e61912e65c00",
   "metadata": {},
   "outputs": [],
   "source": []
  }
 ],
 "metadata": {
  "kernelspec": {
   "display_name": "Python 3 (ipykernel)",
   "language": "python",
   "name": "python3"
  },
  "language_info": {
   "codemirror_mode": {
    "name": "ipython",
    "version": 3
   },
   "file_extension": ".py",
   "mimetype": "text/x-python",
   "name": "python",
   "nbconvert_exporter": "python",
   "pygments_lexer": "ipython3",
   "version": "3.8.10"
  }
 },
 "nbformat": 4,
 "nbformat_minor": 5
}

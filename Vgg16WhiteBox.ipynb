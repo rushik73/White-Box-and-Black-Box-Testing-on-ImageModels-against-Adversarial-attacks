{
 "cells": [
  {
   "cell_type": "code",
   "execution_count": 1,
   "id": "2fcdb8c9-7fc4-4279-ab64-568783ce6895",
   "metadata": {},
   "outputs": [
    {
     "name": "stdout",
     "output_type": "stream",
     "text": [
      "Using device: cuda\n"
     ]
    }
   ],
   "source": [
    "import torch\n",
    "import torch.nn as nn\n",
    "import torch.optim as optim\n",
    "import torchvision\n",
    "import torchvision.transforms as transforms\n",
    "import torch.nn.functional as F\n",
    "from torchvision import models\n",
    "from tqdm import tqdm\n",
    "\n",
    "device = torch.device('cuda' if torch.cuda.is_available() else 'cpu')\n",
    "print(\"Using device:\", device)\n"
   ]
  },
  {
   "cell_type": "code",
   "execution_count": 2,
   "id": "c9168e3f-e0a8-43ea-ab24-e9198830708a",
   "metadata": {},
   "outputs": [
    {
     "name": "stdout",
     "output_type": "stream",
     "text": [
      "Files already downloaded and verified\n",
      "Files already downloaded and verified\n"
     ]
    }
   ],
   "source": [
    "# --- Data Transforms ---\n",
    "mean = (0.4914, 0.4822, 0.4465)\n",
    "std  = (0.2023, 0.1994, 0.2010)\n",
    "\n",
    "transform_train = transforms.Compose([\n",
    "    transforms.RandomCrop(32, padding=4),\n",
    "    transforms.RandomHorizontalFlip(),\n",
    "    transforms.ToTensor(),\n",
    "    transforms.Normalize(mean, std),\n",
    "])\n",
    "transform_test = transforms.Compose([\n",
    "    transforms.ToTensor(),\n",
    "    transforms.Normalize(mean, std),\n",
    "])\n",
    "\n",
    "trainset = torchvision.datasets.CIFAR10(root='./data', train=True, download=True, transform=transform_train)\n",
    "trainloader = torch.utils.data.DataLoader(trainset, batch_size=128, shuffle=True, num_workers=2)\n",
    "\n",
    "testset = torchvision.datasets.CIFAR10(root='./data', train=False, download=True, transform=transform_test)\n",
    "testloader = torch.utils.data.DataLoader(testset, batch_size=100, shuffle=False, num_workers=2)"
   ]
  },
  {
   "cell_type": "code",
   "execution_count": 3,
   "id": "0cca3bb0-fbe6-4326-9b51-b3d365503f78",
   "metadata": {},
   "outputs": [],
   "source": [
    "# --- Defense Modules ---\n",
    "class ThresholdReLU(nn.Module):\n",
    "    def __init__(self, threshold=0.001):\n",
    "        super().__init__()\n",
    "        self.threshold = threshold\n",
    "    def forward(self, x):\n",
    "        return torch.where(x > self.threshold, x, torch.zeros_like(x))\n",
    "\n",
    "def quantize_input(x, levels=16, min_val=-2.5, max_val=2.5):\n",
    "    x = torch.clamp(x, min_val, max_val)\n",
    "    x_norm = (x - min_val) / (max_val - min_val)\n",
    "    x_quant = torch.round(x_norm * (levels - 1)) / (levels - 1)\n",
    "    return x_quant * (max_val - min_val) + min_val"
   ]
  },
  {
   "cell_type": "code",
   "execution_count": 4,
   "id": "a613b2af-1c6e-442e-b42c-9a08e0e28c91",
   "metadata": {},
   "outputs": [],
   "source": [
    "# --- Sparsity Loss ---\n",
    "def sparsity_loss_modified(activations, beta=20.0):\n",
    "    total = sum(act.numel() for act in activations)\n",
    "    loss = 0.0\n",
    "    for act in activations:\n",
    "        loss += torch.sum(1.0 - torch.tanh(beta * torch.abs(act)))\n",
    "    return loss / total"
   ]
  },
  {
   "cell_type": "code",
   "execution_count": 5,
   "id": "a0df61c1-2787-4c34-9bff-b4cc710f8304",
   "metadata": {},
   "outputs": [],
   "source": [
    "# --- VGG16 with Sparsity Recording ---\n",
    "class VGG16Sparse(nn.Module):\n",
    "    def __init__(self, num_classes=10):\n",
    "        super().__init__()\n",
    "        base = models.vgg16(pretrained=True)\n",
    "        # Adapt classifier for CIFAR-10\n",
    "        base.classifier[6] = nn.Linear(4096, num_classes)\n",
    "        # Replace ReLU in features\n",
    "        self.features = nn.Sequential(*[\n",
    "            (ThresholdReLU() if isinstance(m, nn.ReLU) else m)\n",
    "            for m in base.features\n",
    "        ])\n",
    "        self.avgpool = base.avgpool\n",
    "        self.classifier = base.classifier\n",
    "    def forward(self, x):\n",
    "        activations = []\n",
    "        for layer in self.features:\n",
    "            x = layer(x)\n",
    "            if isinstance(layer, ThresholdReLU):\n",
    "                activations.append(x)\n",
    "        x = self.avgpool(x)\n",
    "        x = torch.flatten(x, 1)\n",
    "        x = self.classifier(x)\n",
    "        return x, activations"
   ]
  },
  {
   "cell_type": "code",
   "execution_count": 6,
   "id": "cb272ecd-d81c-439a-b79c-53dbe85590e5",
   "metadata": {},
   "outputs": [],
   "source": [
    "# --- Training/Evaluation ---\n",
    "def train_one_epoch(model, loader, criterion, optimizer):\n",
    "    model.train()\n",
    "    total_loss, correct, total = 0, 0, 0\n",
    "    for imgs, labels in loader:\n",
    "        imgs, labels = imgs.to(device), labels.to(device)\n",
    "        imgs = quantize_input(imgs)\n",
    "        outputs, activations = model(imgs)\n",
    "        loss_ce = criterion(outputs, labels)\n",
    "        loss_sp = sparsity_loss_modified(activations)\n",
    "        loss = loss_ce + loss_sp\n",
    "        optimizer.zero_grad()\n",
    "        loss.backward()\n",
    "        optimizer.step()\n",
    "        total_loss += loss.item() * imgs.size(0)\n",
    "        _, preds = outputs.max(1)\n",
    "        correct += preds.eq(labels).sum().item()\n",
    "        total += labels.size(0)\n",
    "    return total_loss / total, 100 * correct / total"
   ]
  },
  {
   "cell_type": "code",
   "execution_count": 7,
   "id": "d0e7c13f-7d51-445a-aed0-2afbf960b150",
   "metadata": {},
   "outputs": [],
   "source": [
    "def evaluate(model, loader, criterion):\n",
    "    model.eval()\n",
    "    total_loss, correct, total = 0, 0, 0\n",
    "    with torch.no_grad():\n",
    "        for imgs, labels in loader:\n",
    "            imgs, labels = imgs.to(device), labels.to(device)\n",
    "            imgs = quantize_input(imgs)\n",
    "            outputs, activations = model(imgs)\n",
    "            loss_ce = criterion(outputs, labels)\n",
    "            loss_sp = sparsity_loss_modified(activations)\n",
    "            loss = loss_ce + loss_sp\n",
    "            total_loss += loss.item() * imgs.size(0)\n",
    "            _, preds = outputs.max(1)\n",
    "            correct += preds.eq(labels).sum().item()\n",
    "            total += labels.size(0)\n",
    "    return total_loss / total, 100 * correct / total"
   ]
  },
  {
   "cell_type": "code",
   "execution_count": 8,
   "id": "731672a5-426c-41e9-a25d-e7402d2a8fd9",
   "metadata": {},
   "outputs": [],
   "source": [
    "# --- White-box Sparsity Attack ---\n",
    "def generate_sparsity_adversary(model, x_clean, y_clean, criterion,\n",
    "                                epsilon=0.3, alpha=0.01, num_iter=75, c=5.0, beta=20.0):\n",
    "    model.eval()\n",
    "    x_adv = x_clean.clone().detach().to(device)\n",
    "    x_adv.requires_grad = True\n",
    "    for i in range(num_iter):\n",
    "        outputs, activations = model(x_adv)\n",
    "        loss_ce = criterion(outputs, y_clean)\n",
    "        loss_sp = sparsity_loss_modified(activations, beta=beta)\n",
    "        loss = loss_sp + c * loss_ce\n",
    "        model.zero_grad()\n",
    "        loss.backward()\n",
    "        x_adv = x_adv - alpha * x_adv.grad.sign()\n",
    "        x_adv = torch.max(torch.min(x_adv, x_clean + epsilon), x_clean - epsilon)\n",
    "        x_adv = torch.clamp(x_adv, -2.5, 2.5)\n",
    "        x_adv = x_adv.detach()\n",
    "        x_adv.requires_grad = True\n",
    "        if (i + 1) % 15 == 0:\n",
    "            print(f\"Iter {i+1}/{num_iter}, CE: {loss_ce.item():.4f}, SP: {loss_sp.item():.4f}\")\n",
    "    return x_adv.detach()"
   ]
  },
  {
   "cell_type": "code",
   "execution_count": 9,
   "id": "7a94d67b-cb16-411e-a424-6eb776464842",
   "metadata": {},
   "outputs": [
    {
     "name": "stderr",
     "output_type": "stream",
     "text": [
      "/home/rushik/.local/lib/python3.8/site-packages/torchvision/models/_utils.py:208: UserWarning: The parameter 'pretrained' is deprecated since 0.13 and may be removed in the future, please use 'weights' instead.\n",
      "  warnings.warn(\n",
      "/home/rushik/.local/lib/python3.8/site-packages/torchvision/models/_utils.py:223: UserWarning: Arguments other than a weight enum or `None` for 'weights' are deprecated since 0.13 and may be removed in the future. The current behavior is equivalent to passing `weights=VGG16_Weights.IMAGENET1K_V1`. You can also use `weights=VGG16_Weights.DEFAULT` to get the most up-to-date weights.\n",
      "  warnings.warn(msg)\n"
     ]
    }
   ],
   "source": [
    "# --- Instantiate, Train/Load, and Test Attack ---\n",
    "model = VGG16Sparse().to(device)\n",
    "criterion = nn.CrossEntropyLoss()\n",
    "optimizer = optim.SGD(model.parameters(), lr=0.01, momentum=0.9, weight_decay=1e-4)"
   ]
  },
  {
   "cell_type": "code",
   "execution_count": 10,
   "id": "09ccbb8f-f05e-473b-af30-161335527458",
   "metadata": {},
   "outputs": [
    {
     "name": "stdout",
     "output_type": "stream",
     "text": [
      "Iter 15/75, CE: 0.2557, SP: 0.6078\n",
      "Iter 30/75, CE: 0.1067, SP: 0.6073\n",
      "Iter 45/75, CE: 0.0557, SP: 0.6063\n",
      "Iter 60/75, CE: 0.0351, SP: 0.6054\n",
      "Iter 75/75, CE: 0.0259, SP: 0.6044\n",
      "Clean preds: tensor([7, 7, 3, 0, 5, 3, 7, 5, 2, 7], device='cuda:0')\n",
      "Adv preds:  tensor([7, 7, 3, 0, 5, 3, 7, 5, 2, 7], device='cuda:0')\n",
      "Sparsity clean: 0.3980, adv: 0.4013\n"
     ]
    }
   ],
   "source": [
    "model.eval()\n",
    "for imgs, labels in testloader:\n",
    "    imgs, labels = imgs.to(device), labels.to(device)\n",
    "    imgs_q = quantize_input(imgs)\n",
    "    out_c, acts_c = model(imgs_q)\n",
    "    _, p_c = out_c.max(1)\n",
    "    imgs_adv = generate_sparsity_adversary(model, imgs_q, p_c, criterion)\n",
    "    out_a, acts_a = model(imgs_adv)\n",
    "    _, p_a = out_a.max(1)\n",
    "    print(\"Clean preds:\", p_c[:10])\n",
    "    print(\"Adv preds: \", p_a[:10])\n",
    "    spar_c = sum((act != 0).float().sum() for act in acts_c) / sum(act.numel() for act in acts_c)\n",
    "    spar_a = sum((act != 0).float().sum() for act in acts_a) / sum(act.numel() for act in acts_a)\n",
    "    print(f\"Sparsity clean: {spar_c:.4f}, adv: {spar_a:.4f}\")\n",
    "    break"
   ]
  },
  {
   "cell_type": "code",
   "execution_count": null,
   "id": "978191ee-ea9a-472c-8d9b-3ad96fe2561a",
   "metadata": {},
   "outputs": [],
   "source": []
  }
 ],
 "metadata": {
  "kernelspec": {
   "display_name": "Python 3 (ipykernel)",
   "language": "python",
   "name": "python3"
  },
  "language_info": {
   "codemirror_mode": {
    "name": "ipython",
    "version": 3
   },
   "file_extension": ".py",
   "mimetype": "text/x-python",
   "name": "python",
   "nbconvert_exporter": "python",
   "pygments_lexer": "ipython3",
   "version": "3.8.10"
  }
 },
 "nbformat": 4,
 "nbformat_minor": 5
}

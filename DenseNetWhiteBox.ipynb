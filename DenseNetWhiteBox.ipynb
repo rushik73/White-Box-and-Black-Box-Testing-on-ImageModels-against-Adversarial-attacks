{
 "cells": [
  {
   "cell_type": "code",
   "execution_count": 1,
   "id": "5be2daa1-19ff-40ca-acb3-d255cbb55e04",
   "metadata": {},
   "outputs": [
    {
     "name": "stdout",
     "output_type": "stream",
     "text": [
      "Using device: cuda\n"
     ]
    }
   ],
   "source": [
    "import torch\n",
    "import torch.nn as nn\n",
    "import torch.optim as optim\n",
    "import torchvision\n",
    "import torchvision.transforms as transforms\n",
    "import torch.nn.functional as F\n",
    "from torchvision import models\n",
    "from tqdm import tqdm\n",
    "\n",
    "device = torch.device('cuda' if torch.cuda.is_available() else 'cpu')\n",
    "print(\"Using device:\", device)\n"
   ]
  },
  {
   "cell_type": "code",
   "execution_count": 2,
   "id": "523e72c0-dcb2-4025-94f8-010ac84fa9c9",
   "metadata": {},
   "outputs": [
    {
     "name": "stdout",
     "output_type": "stream",
     "text": [
      "Files already downloaded and verified\n",
      "Files already downloaded and verified\n"
     ]
    }
   ],
   "source": [
    "# --- Data Transforms ---\n",
    "mean = (0.4914, 0.4822, 0.4465)\n",
    "std  = (0.2023, 0.1994, 0.2010)\n",
    "transform_train = transforms.Compose([\n",
    "    transforms.RandomCrop(32, padding=4),\n",
    "    transforms.RandomHorizontalFlip(),\n",
    "    transforms.ToTensor(),\n",
    "    transforms.Normalize(mean, std),\n",
    "])\n",
    "transform_test = transforms.Compose([\n",
    "    transforms.ToTensor(),\n",
    "    transforms.Normalize(mean, std),\n",
    "])\n",
    "trainset = torchvision.datasets.CIFAR10(root='./data', train=True, download=True, transform=transform_train)\n",
    "trainloader = torch.utils.data.DataLoader(trainset, batch_size=128, shuffle=True, num_workers=2)\n",
    "testset = torchvision.datasets.CIFAR10(root='./data', train=False, download=True, transform=transform_test)\n",
    "testloader = torch.utils.data.DataLoader(testset, batch_size=100, shuffle=False, num_workers=2)"
   ]
  },
  {
   "cell_type": "code",
   "execution_count": 3,
   "id": "c714580d-3f62-47de-a6ba-d1348a218ef8",
   "metadata": {},
   "outputs": [],
   "source": [
    "# --- Defense Modules ---\n",
    "class ThresholdReLU(nn.Module):\n",
    "    def __init__(self, threshold=0.001):\n",
    "        super().__init__()\n",
    "        self.threshold = threshold\n",
    "    def forward(self, x):\n",
    "        return torch.where(x > self.threshold, x, torch.zeros_like(x))\n",
    "\n",
    "def quantize_input(x, levels=16, min_val=-2.5, max_val=2.5):\n",
    "    x = torch.clamp(x, min_val, max_val)\n",
    "    x_norm = (x - min_val) / (max_val - min_val)\n",
    "    x_quant = torch.round(x_norm * (levels - 1)) / (levels - 1)\n",
    "    return x_quant * (max_val - min_val) + min_val"
   ]
  },
  {
   "cell_type": "code",
   "execution_count": 4,
   "id": "b56129fb-0fbc-4a5c-9d39-d7a915d6c41f",
   "metadata": {},
   "outputs": [],
   "source": [
    "# --- Sparsity Loss ---\n",
    "def sparsity_loss_modified(activations, beta=20.0):\n",
    "    total = sum(act.numel() for act in activations)\n",
    "    loss = 0.0\n",
    "    for act in activations:\n",
    "        loss += torch.sum(1.0 - torch.tanh(beta * torch.abs(act)))\n",
    "    return loss / total"
   ]
  },
  {
   "cell_type": "code",
   "execution_count": 5,
   "id": "c015d020-b6ef-49a8-963d-80c1b2c2e2ab",
   "metadata": {},
   "outputs": [],
   "source": [
    "# --- DenseNet Wrapper ---\n",
    "class DenseNetSparse(nn.Module):\n",
    "    def __init__(self, num_classes=10):\n",
    "        super().__init__()\n",
    "        base = models.densenet121(pretrained=True)\n",
    "        # Adapt classifier for CIFAR-10\n",
    "        in_features = base.classifier.in_features\n",
    "        base.classifier = nn.Linear(in_features, num_classes)\n",
    "        # Replace ReLU in features\n",
    "        layers = []\n",
    "        for m in base.features:\n",
    "            if isinstance(m, nn.ReLU):\n",
    "                layers.append(ThresholdReLU())\n",
    "            else:\n",
    "                layers.append(m)\n",
    "        self.features = nn.Sequential(*layers)\n",
    "        self.classifier = base.classifier\n",
    "        self.avgpool = nn.AdaptiveAvgPool2d((1,1))\n",
    "    def forward(self, x):\n",
    "        activations = []\n",
    "        for layer in self.features:\n",
    "            x = layer(x)\n",
    "            if isinstance(layer, ThresholdReLU):\n",
    "                activations.append(x)\n",
    "        x = self.avgpool(x)\n",
    "        x = torch.flatten(x, 1)\n",
    "        x = self.classifier(x)\n",
    "        return x, activations"
   ]
  },
  {
   "cell_type": "code",
   "execution_count": 6,
   "id": "63e2637f-42f5-4b42-916a-a81e496c21ea",
   "metadata": {},
   "outputs": [],
   "source": [
    "# --- Training/Eval ---\n",
    "def train_one_epoch(model, loader, criterion, optimizer):\n",
    "    model.train()\n",
    "    total_loss, correct, total = 0, 0, 0\n",
    "    for imgs, labels in loader:\n",
    "        imgs, labels = imgs.to(device), labels.to(device)\n",
    "        imgs = quantize_input(imgs)\n",
    "        outputs, acts = model(imgs)\n",
    "        loss_ce = criterion(outputs, labels)\n",
    "        loss_sp = sparsity_loss_modified(acts)\n",
    "        loss = loss_ce + loss_sp\n",
    "        optimizer.zero_grad(); loss.backward(); optimizer.step()\n",
    "        total_loss += loss.item() * imgs.size(0)\n",
    "        _, preds = outputs.max(1)\n",
    "        correct += preds.eq(labels).sum().item(); total += labels.size(0)\n",
    "    return total_loss/total, 100*correct/total"
   ]
  },
  {
   "cell_type": "code",
   "execution_count": 7,
   "id": "40d0bd39-2714-4040-b9a0-d354a0890c4e",
   "metadata": {},
   "outputs": [],
   "source": [
    "def evaluate(model, loader, criterion):\n",
    "    model.eval()\n",
    "    total_loss, correct, total = 0, 0, 0\n",
    "    with torch.no_grad():\n",
    "        for imgs, labels in loader:\n",
    "            imgs, labels = imgs.to(device), labels.to(device)\n",
    "            imgs = quantize_input(imgs)\n",
    "            outputs, acts = model(imgs)\n",
    "            loss_ce = criterion(outputs, labels)\n",
    "            loss_sp = sparsity_loss_modified(acts)\n",
    "            loss = loss_ce + loss_sp\n",
    "            total_loss += loss.item() * imgs.size(0)\n",
    "            _, preds = outputs.max(1)\n",
    "            correct += preds.eq(labels).sum().item(); total += labels.size(0)\n",
    "    return total_loss/total, 100*correct/total"
   ]
  },
  {
   "cell_type": "code",
   "execution_count": 8,
   "id": "30d8ebec-fd61-4382-89f4-0ea63b3d1d15",
   "metadata": {},
   "outputs": [],
   "source": [
    "# --- White-box Sparsity Attack ---\n",
    "def generate_sparsity_adversary(model, x_clean, y_clean, criterion,\n",
    "                                epsilon=0.3, alpha=0.01, num_iter=75, c=5.0, beta=20.0):\n",
    "    model.eval(); x_adv = x_clean.clone().detach().to(device); x_adv.requires_grad=True\n",
    "    for i in range(num_iter):\n",
    "        outputs, acts = model(x_adv)\n",
    "        loss_ce = criterion(outputs, y_clean)\n",
    "        loss_sp = sparsity_loss_modified(acts, beta=beta)\n",
    "        loss = loss_sp + c * loss_ce\n",
    "        model.zero_grad(); loss.backward()\n",
    "        x_adv = x_adv - alpha * x_adv.grad.sign()\n",
    "        x_adv = torch.max(torch.min(x_adv, x_clean+epsilon), x_clean-epsilon)\n",
    "        x_adv = torch.clamp(x_adv, -2.5, 2.5)\n",
    "        x_adv = x_adv.detach(); x_adv.requires_grad=True\n",
    "        if (i+1)%15==0:\n",
    "            print(f\"Iter {i+1}/{num_iter}, CE: {loss_ce.item():.4f}, SP: {loss_sp.item():.4f}\")\n",
    "    return x_adv.detach()"
   ]
  },
  {
   "cell_type": "code",
   "execution_count": 9,
   "id": "0553410e-a9f7-436d-a91e-eab70c68e721",
   "metadata": {},
   "outputs": [
    {
     "name": "stderr",
     "output_type": "stream",
     "text": [
      "/home/rushik/.local/lib/python3.8/site-packages/torchvision/models/_utils.py:208: UserWarning: The parameter 'pretrained' is deprecated since 0.13 and may be removed in the future, please use 'weights' instead.\n",
      "  warnings.warn(\n",
      "/home/rushik/.local/lib/python3.8/site-packages/torchvision/models/_utils.py:223: UserWarning: Arguments other than a weight enum or `None` for 'weights' are deprecated since 0.13 and may be removed in the future. The current behavior is equivalent to passing `weights=DenseNet121_Weights.IMAGENET1K_V1`. You can also use `weights=DenseNet121_Weights.DEFAULT` to get the most up-to-date weights.\n",
      "  warnings.warn(msg)\n"
     ]
    }
   ],
   "source": [
    "# --- Instantiate & Test ---\n",
    "model = DenseNetSparse().to(device)\n",
    "criterion = nn.CrossEntropyLoss()\n",
    "optimizer = optim.SGD(model.parameters(), lr=0.01, momentum=0.9, weight_decay=1e-4)"
   ]
  },
  {
   "cell_type": "code",
   "execution_count": 10,
   "id": "3c251b99-208a-4721-96a8-d36b8be79a74",
   "metadata": {},
   "outputs": [
    {
     "name": "stdout",
     "output_type": "stream",
     "text": [
      "Iter 15/75, CE: 0.1256, SP: 0.3242\n",
      "Iter 30/75, CE: 0.0446, SP: 0.3242\n",
      "Iter 45/75, CE: 0.0239, SP: 0.3228\n",
      "Iter 60/75, CE: 0.0154, SP: 0.3209\n",
      "Iter 75/75, CE: 0.0116, SP: 0.3190\n",
      "Clean preds: tensor([5, 0, 1, 5, 5, 9, 9, 6, 2, 8], device='cuda:0')\n",
      "Adv preds:  tensor([5, 0, 1, 5, 5, 9, 9, 6, 2, 8], device='cuda:0')\n",
      "Sparsity clean: 0.8743, adv: 0.8781\n"
     ]
    }
   ],
   "source": [
    "model.eval()\n",
    "for imgs, labels in testloader:\n",
    "    imgs, labels = imgs.to(device), labels.to(device)\n",
    "    imgs_q = quantize_input(imgs)\n",
    "    out_c, acts_c = model(imgs_q); _, p_c = out_c.max(1)\n",
    "    imgs_adv = generate_sparsity_adversary(model, imgs_q, p_c, criterion)\n",
    "    out_a, acts_a = model(imgs_adv); _, p_a = out_a.max(1)\n",
    "    print(\"Clean preds:\", p_c[:10])\n",
    "    print(\"Adv preds: \", p_a[:10])\n",
    "    spar_c = sum((act!=0).float().sum() for act in acts_c)/sum(act.numel() for act in acts_c)\n",
    "    spar_a = sum((act!=0).float().sum() for act in acts_a)/sum(act.numel() for act in acts_a)\n",
    "    print(f\"Sparsity clean: {spar_c:.4f}, adv: {spar_a:.4f}\")\n",
    "    break"
   ]
  },
  {
   "cell_type": "code",
   "execution_count": null,
   "id": "d006d5cd-d3a0-4684-928d-68f42b90544d",
   "metadata": {},
   "outputs": [],
   "source": []
  }
 ],
 "metadata": {
  "kernelspec": {
   "display_name": "Python 3 (ipykernel)",
   "language": "python",
   "name": "python3"
  },
  "language_info": {
   "codemirror_mode": {
    "name": "ipython",
    "version": 3
   },
   "file_extension": ".py",
   "mimetype": "text/x-python",
   "name": "python",
   "nbconvert_exporter": "python",
   "pygments_lexer": "ipython3",
   "version": "3.8.10"
  }
 },
 "nbformat": 4,
 "nbformat_minor": 5
}

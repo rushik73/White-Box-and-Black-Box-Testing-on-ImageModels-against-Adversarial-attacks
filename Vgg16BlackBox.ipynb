{
 "cells": [
  {
   "cell_type": "code",
   "execution_count": 5,
   "id": "490696aa-a450-4c5a-9ee6-6a90d6ad1b60",
   "metadata": {},
   "outputs": [
    {
     "name": "stdout",
     "output_type": "stream",
     "text": [
      "Using device: cuda\n"
     ]
    }
   ],
   "source": [
    "import copy\n",
    "import torch\n",
    "import torch.nn as nn\n",
    "import torch.nn.functional as F\n",
    "import torch.optim as optim\n",
    "import torchvision\n",
    "import torchvision.transforms as transforms\n",
    "\n",
    "device = torch.device('cuda' if torch.cuda.is_available() else 'cpu')\n",
    "print(\"Using device:\", device)"
   ]
  },
  {
   "cell_type": "code",
   "execution_count": 6,
   "id": "c99ca0d5-6096-4fca-8c42-117ded414a6d",
   "metadata": {},
   "outputs": [],
   "source": [
    "class ThresholdReLU(nn.Module):\n",
    "    def __init__(self, threshold=0.001):\n",
    "        super().__init__()\n",
    "        self.threshold = threshold\n",
    "    def forward(self, x):\n",
    "        return torch.where(x > self.threshold, x, torch.zeros_like(x))\n",
    "\n",
    "def quantize_input(x, levels=16, lo=0.0, hi=1.0):\n",
    "    x = x.clamp(lo, hi)\n",
    "    x_norm = (x - lo) / (hi - lo)\n",
    "    x_q = torch.round(x_norm * (levels - 1)) / (levels - 1)\n",
    "    return x_q * (hi - lo) + lo\n",
    "\n",
    "def sparsity_loss_modified(activations, beta=20.0):\n",
    "    total = sum(a.numel() for a in activations)\n",
    "    loss = 0.0\n",
    "    for a in activations:\n",
    "        loss += torch.sum(1.0 - torch.tanh(beta * a.abs()))\n",
    "    return loss / total\n"
   ]
  },
  {
   "cell_type": "code",
   "execution_count": 7,
   "id": "f7ec2137-a70d-4af3-9688-d1786bfe05a1",
   "metadata": {},
   "outputs": [],
   "source": [
    "class VGG16_Sparse(nn.Module):\n",
    "    def __init__(self, num_classes=10):\n",
    "        super().__init__()\n",
    "        # load standard VGG16-BN feature extractor\n",
    "        self.features = torchvision.models.vgg16_bn(pretrained=False).features\n",
    "        # replace the classifier for CIFAR‑10\n",
    "        self.classifier = nn.Sequential(\n",
    "            nn.Linear(512*1*1, 4096),\n",
    "            ThresholdReLU(),\n",
    "            nn.Linear(4096, 4096),\n",
    "            ThresholdReLU(),\n",
    "            nn.Linear(4096, num_classes)\n",
    "        )\n",
    "        self.pool = nn.AdaptiveAvgPool2d((1,1))\n",
    "        self.relu = ThresholdReLU()\n",
    "\n",
    "    def forward(self, x):\n",
    "        acts = []\n",
    "        for layer in self.features:\n",
    "            x = layer(x)\n",
    "            # record activations immediately after each BatchNorm\n",
    "            if isinstance(layer, nn.BatchNorm2d):\n",
    "                acts.append(x.clone())\n",
    "        x = self.pool(x)\n",
    "        x = x.view(x.size(0), -1)\n",
    "        x = self.classifier(x)\n",
    "        return x, acts"
   ]
  },
  {
   "cell_type": "code",
   "execution_count": 8,
   "id": "c6a56c96-c180-490e-aeb6-a23ff3d3c920",
   "metadata": {},
   "outputs": [],
   "source": [
    "def generate_sparsity_adversary(model, x_clean, y_clean, criterion,\n",
    "                                epsilon=0.5, alpha=0.05, num_iter=120,\n",
    "                                c=0.0, beta=50.0):\n",
    "    model.eval()\n",
    "    x_adv = x_clean.detach().clone().to(device)\n",
    "    x_adv.requires_grad = True\n",
    "\n",
    "    for i in range(num_iter):\n",
    "        logits, acts = model(x_adv)\n",
    "        l_sp = sparsity_loss_modified(acts, beta=beta)\n",
    "        loss = l_sp  # c=0 → ignore CE\n",
    "        model.zero_grad()\n",
    "        loss.backward()\n",
    "        # gradient step\n",
    "        x_adv = x_adv - alpha * x_adv.grad.sign()\n",
    "        # project into L∞ ball around x_clean\n",
    "        x_adv = torch.max(torch.min(x_adv, x_clean+epsilon),\n",
    "                          x_clean-epsilon).clamp(0.0, 1.0)\n",
    "        x_adv = x_adv.detach()\n",
    "        x_adv.requires_grad = True\n",
    "\n",
    "        if (i+1) % 30 == 0:\n",
    "            print(f\"WB iter {i+1}/{num_iter}, SP loss: {l_sp.item():.4f}\")\n",
    "\n",
    "    return x_adv.detach()"
   ]
  },
  {
   "cell_type": "code",
   "execution_count": 9,
   "id": "a5a956cf-a389-4685-8d32-b602403f0e0f",
   "metadata": {},
   "outputs": [],
   "source": [
    "class SPSAAttack:\n",
    "    def __init__(self, model, bounds=(0,1), sigma=2e-3, lr=1e-2,\n",
    "                 max_iter=500, targeted=True, samples=4):\n",
    "        self.model     = model\n",
    "        self.lo, self.hi = bounds\n",
    "        self.sigma     = sigma\n",
    "        self.lr        = lr\n",
    "        self.max_iter  = max_iter\n",
    "        self.targeted  = targeted\n",
    "        self.samples   = samples\n",
    "\n",
    "    def attack(self, x_orig, tgt_label):\n",
    "        delta = torch.zeros_like(x_orig, device=x_orig.device)\n",
    "        tgt   = torch.tensor([tgt_label], device=x_orig.device)\n",
    "\n",
    "        for _ in range(self.max_iter):\n",
    "            grad_est = torch.zeros_like(delta)\n",
    "            for _ in range(self.samples):\n",
    "                u = torch.randint(0,2,x_orig.shape,device=x_orig.device).float()*2 - 1\n",
    "                x_p = torch.clamp(x_orig + delta + self.sigma*u, self.lo, self.hi)\n",
    "                x_n = torch.clamp(x_orig + delta - self.sigma*u, self.lo, self.hi)\n",
    "                lp,_ = self.model(x_p); ln,_ = self.model(x_n)\n",
    "                l_p = F.cross_entropy(lp, tgt)\n",
    "                l_n = F.cross_entropy(ln, tgt)\n",
    "                diff = (l_p - l_n) if self.targeted else (l_n - l_p)\n",
    "                grad_est += diff * u / (2*self.sigma)\n",
    "            grad_est /= self.samples\n",
    "            delta = delta - self.lr * grad_est\n",
    "            delta = torch.clamp(delta, self.lo - x_orig, self.hi - x_orig)\n",
    "        return torch.clamp(x_orig + delta, self.lo, self.hi).detach()"
   ]
  },
  {
   "cell_type": "code",
   "execution_count": 10,
   "id": "878d2e1e-3bed-4e73-8367-3a0c1434bb23",
   "metadata": {},
   "outputs": [
    {
     "name": "stdout",
     "output_type": "stream",
     "text": [
      "Files already downloaded and verified\n"
     ]
    },
    {
     "name": "stderr",
     "output_type": "stream",
     "text": [
      "/home/rushik/.local/lib/python3.8/site-packages/torchvision/models/_utils.py:208: UserWarning: The parameter 'pretrained' is deprecated since 0.13 and may be removed in the future, please use 'weights' instead.\n",
      "  warnings.warn(\n",
      "/home/rushik/.local/lib/python3.8/site-packages/torchvision/models/_utils.py:223: UserWarning: Arguments other than a weight enum or `None` for 'weights' are deprecated since 0.13 and may be removed in the future. The current behavior is equivalent to passing `weights=None`.\n",
      "  warnings.warn(msg)\n"
     ]
    }
   ],
   "source": [
    "mean = (0.4914, 0.4822, 0.4465)\n",
    "std  = (0.2023, 0.1994, 0.2010)\n",
    "transform_test = transforms.Compose([\n",
    "    transforms.ToTensor(),\n",
    "    transforms.Normalize(mean,std),\n",
    "])\n",
    "testset  = torchvision.datasets.CIFAR10('./data', train=False, download=True, transform=transform_test)\n",
    "testloader = torch.utils.data.DataLoader(testset, batch_size=100, shuffle=False, num_workers=2)\n",
    "\n",
    "# ─── 7) Instantiate & Load ────────────────────────────\n",
    "model     = VGG16_Sparse().to(device)\n",
    "model.eval()\n",
    "surrogate = model\n",
    "target    = copy.deepcopy(model)\n",
    "surrogate.eval(); target.eval()\n",
    "\n",
    "criterion = nn.CrossEntropyLoss()\n",
    "spsa = SPSAAttack(model=target)"
   ]
  },
  {
   "cell_type": "code",
   "execution_count": 11,
   "id": "c425c793-2226-436c-9137-a04d17981888",
   "metadata": {},
   "outputs": [
    {
     "name": "stdout",
     "output_type": "stream",
     "text": [
      "WB iter 30/120, SP loss: 0.0562\n",
      "WB iter 60/120, SP loss: 0.0544\n",
      "WB iter 90/120, SP loss: 0.0536\n",
      "WB iter 120/120, SP loss: 0.0531\n",
      "Sparsity clean: 0.9358, adversarial: 1.0000\n"
     ]
    }
   ],
   "source": [
    "# ─ 8) Two‑Stage Black‑Box Sparsity Attack ──\n",
    "for imgs, _ in testloader:\n",
    "    imgs = imgs.to(device)\n",
    "    # (1) Clean preds & activations\n",
    "    with torch.no_grad():\n",
    "        logits_c, acts_c = target(quantize_input(imgs))\n",
    "        preds_c = logits_c.argmax(1)\n",
    "\n",
    "    # (2) White‑box stage on surrogate\n",
    "    imgs_q  = quantize_input(imgs)\n",
    "    imgs_s1 = generate_sparsity_adversary(\n",
    "                   surrogate, imgs_q, preds_c, criterion,\n",
    "                   epsilon=0.5, alpha=0.05, num_iter=120, c=0.0, beta=50.0\n",
    "               )\n",
    "\n",
    "    # (3) SPSA repair any flips\n",
    "    imgs_adv = imgs_s1.clone()\n",
    "    for i in range(imgs.size(0)):\n",
    "        with torch.no_grad():\n",
    "            pi = target(imgs_s1[i:i+1])[0].argmax(1)\n",
    "        if pi != preds_c[i]:\n",
    "            imgs_adv[i:i+1] = spsa.attack(imgs_s1[i:i+1], preds_c[i].item())\n",
    "\n",
    "    # (4) Measure sparsity\n",
    "    with torch.no_grad():\n",
    "        _, acts_a = target(quantize_input(imgs_adv))\n",
    "    sp_c = sum((a!=0).float().sum() for a in acts_c)/sum(a.numel() for a in acts_c)\n",
    "    sp_a = sum((a!=0).float().sum() for a in acts_a)/sum(a.numel() for a in acts_a)\n",
    "\n",
    "    print(f\"Sparsity clean: {sp_c:.4f}, adversarial: {sp_a:.4f}\")\n",
    "    break"
   ]
  },
  {
   "cell_type": "code",
   "execution_count": null,
   "id": "5feebfe2-fa2b-415b-9b61-b5233181fda1",
   "metadata": {},
   "outputs": [],
   "source": []
  }
 ],
 "metadata": {
  "kernelspec": {
   "display_name": "Python 3 (ipykernel)",
   "language": "python",
   "name": "python3"
  },
  "language_info": {
   "codemirror_mode": {
    "name": "ipython",
    "version": 3
   },
   "file_extension": ".py",
   "mimetype": "text/x-python",
   "name": "python",
   "nbconvert_exporter": "python",
   "pygments_lexer": "ipython3",
   "version": "3.8.10"
  }
 },
 "nbformat": 4,
 "nbformat_minor": 5
}
